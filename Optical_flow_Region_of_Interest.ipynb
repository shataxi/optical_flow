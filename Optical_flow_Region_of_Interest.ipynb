{
 "cells": [
  {
   "cell_type": "code",
   "execution_count": null,
   "id": "8d4ac0aa",
   "metadata": {},
   "outputs": [],
   "source": [
    "#References:\n",
    "# https://github.com/npinto/opencv/blob/master/samples/python2/lk_track.py\n",
    "# https://docs.opencv.org/4.x/dc/d6b/group__video__track.html#ga473e4b886d0bcc6b65831eb88ed93323\n",
    "# https://amroamroamro.github.io/mexopencv/matlab/cv.goodFeaturesToTrack.html\n",
    "# https://amroamroamro.github.io/mexopencv/matlab/cv.calcOpticalFlowPyrLK.html\n",
    "# https://github.com/niconielsen32/ComputerVision/blob/master/opticalFlow/sparseOpticalFlow.py#L22"
   ]
  },
  {
   "cell_type": "code",
   "execution_count": 1,
   "id": "70d5bf67",
   "metadata": {},
   "outputs": [],
   "source": [
    "import numpy as np\n",
    "import cv2 \n",
    "from matplotlib import pyplot as plt\n",
    "import time"
   ]
  },
  {
   "cell_type": "code",
   "execution_count": 2,
   "id": "5bb3458b",
   "metadata": {},
   "outputs": [],
   "source": [
    "lk_params = dict(winSize  = (15, 15),\n",
    "                maxLevel = 2,\n",
    "                criteria = (cv2.TERM_CRITERIA_EPS | cv2.TERM_CRITERIA_COUNT, 10, 0.03))"
   ]
  },
  {
   "cell_type": "code",
   "execution_count": 3,
   "id": "d83b42cd",
   "metadata": {},
   "outputs": [],
   "source": [
    "feature_params = dict(maxCorners = 20,\n",
    "                    qualityLevel = 0.3,\n",
    "                    minDistance = 10,\n",
    "                    blockSize = 7 )"
   ]
  },
  {
   "cell_type": "code",
   "execution_count": 4,
   "id": "97e827fd",
   "metadata": {},
   "outputs": [],
   "source": [
    "trajectory_len = 40\n",
    "detect_interval = 1\n",
    "trajectories = []\n",
    "frame_idx = 0"
   ]
  },
  {
   "cell_type": "code",
   "execution_count": 5,
   "id": "f969a775",
   "metadata": {},
   "outputs": [],
   "source": [
    "#live video capture\n",
    "# cap = cv2.VideoCapture(0)\n",
    "\n",
    "#using test video\n",
    "cap = cv2.VideoCapture('test_video2.mp4')"
   ]
  },
  {
   "cell_type": "code",
   "execution_count": 6,
   "id": "1d131e8d",
   "metadata": {},
   "outputs": [
    {
     "name": "stdout",
     "output_type": "stream",
     "text": [
      "648 355 350 321\n"
     ]
    }
   ],
   "source": [
    "suc, frame = cap.read()\n",
    "\n",
    "#region of interest\n",
    "r = cv2.selectROI(\"select the image\",frame)\n",
    "x_roi,y_roi,width,height = r[0],r[1],r[2],r[3]\n",
    "print(x_roi,y_roi,width,height)\n",
    "\n",
    "#Press 0 to exit from selection window\n",
    "cv2.waitKey(0)\n",
    "cv2.destroyAllWindows()"
   ]
  },
  {
   "cell_type": "code",
   "execution_count": 7,
   "id": "48368c97",
   "metadata": {},
   "outputs": [],
   "source": [
    "while True:\n",
    "\n",
    "\n",
    "    suc, frame = cap.read()\n",
    "    \n",
    "    #region of interest\n",
    "    roi = frame[int(y_roi):int(y_roi+height),int(x_roi):int(x_roi+width)]\n",
    "    roi_gray = cv2.cvtColor(roi, cv2.COLOR_BGR2GRAY)\n",
    "\n",
    "\n",
    "    # Calculate optical flow for a sparse feature set using the iterative Lucas-Kanade Method\n",
    "    # https://docs.opencv.org/4.x/dc/d6b/group__video__track.html#ga473e4b886d0bcc6b65831eb88ed93323\n",
    "    if len(trajectories) > 0:\n",
    "        img0, img1 = prev_gray, roi_gray\n",
    "        p0 = np.float32([trajectory[-1] for trajectory in trajectories]).reshape(-1, 1, 2)\n",
    "\n",
    "        p1, _st, _err = cv2.calcOpticalFlowPyrLK(img0, img1, p0, None, **lk_params)\n",
    "\n",
    "        p0r, _st, _err = cv2.calcOpticalFlowPyrLK(img1, img0, p1, None, **lk_params)\n",
    "\n",
    "        d = abs(p0-p0r).reshape(-1, 2).max(-1)\n",
    "        good = d < 1\n",
    "\n",
    "        new_trajectories = []\n",
    "\n",
    "         # Get all the trajectories\n",
    "        for trajectory, (x, y), good_flag in zip(trajectories, p1.reshape(-1, 2), good):\n",
    "            if not good_flag:\n",
    "                continue\n",
    "            trajectory.append((x, y))\n",
    "            if len(trajectory) > trajectory_len:\n",
    "                del trajectory[0]\n",
    "            new_trajectories.append(trajectory)\n",
    "            # Newest detected point\n",
    "            cv2.circle(roi, (int(x), int(y)), 2, (0, 0, 255), -1)\n",
    "\n",
    "        trajectories = new_trajectories\n",
    "\n",
    "        # Draw all the trajectories\n",
    "        cv2.polylines(roi, [np.int32(trajectory) for trajectory in trajectories], False, (0, 255, 0))\n",
    "        cv2.putText(roi, 'track count: %d' % len(trajectories), (20, 50), cv2.FONT_HERSHEY_PLAIN, 1, (0,255,0), 2)\n",
    "\n",
    "\n",
    "     # Update interval - When to update and detect new features\n",
    "    if frame_idx % detect_interval == 0:\n",
    "\n",
    "        mask = np.zeros_like(roi_gray)\n",
    "        mask[:] = 255\n",
    "\n",
    "         # Lastest point in latest trajectory\n",
    "        for x, y in [np.int32(trajectory[-1]) for trajectory in trajectories]:\n",
    "            cv2.circle(mask, (x, y), 5, 0, -1)\n",
    "\n",
    "        # selecting corners from ROI\n",
    "        p = cv2.goodFeaturesToTrack(roi_gray, mask = mask, **feature_params)\n",
    "\n",
    "        #adding corners to trajectory\n",
    "        if p is not None:\n",
    "            for x, y in np.float32(p).reshape(-1, 2):\n",
    "                trajectories.append([(x, y)])\n",
    "\n",
    "\n",
    "    frame_idx += 1\n",
    "    prev_gray = roi_gray\n",
    "\n",
    "    cv2.imshow('Optical Flow', roi)\n",
    "    cv2.imshow('Mask', mask)\n",
    "    \n",
    "    #Press q to exit from selection window\n",
    "    if cv2.waitKey(10) & 0xFF == ord('q'):\n",
    "        break\n",
    "        \n",
    "cap.release()\n",
    "cv2.destroyAllWindows()"
   ]
  },
  {
   "cell_type": "code",
   "execution_count": null,
   "id": "7cc777e6",
   "metadata": {},
   "outputs": [],
   "source": []
  }
 ],
 "metadata": {
  "kernelspec": {
   "display_name": "Python 3 (ipykernel)",
   "language": "python",
   "name": "python3"
  },
  "language_info": {
   "codemirror_mode": {
    "name": "ipython",
    "version": 3
   },
   "file_extension": ".py",
   "mimetype": "text/x-python",
   "name": "python",
   "nbconvert_exporter": "python",
   "pygments_lexer": "ipython3",
   "version": "3.9.7"
  }
 },
 "nbformat": 4,
 "nbformat_minor": 5
}
